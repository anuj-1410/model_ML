{
 "cells": [
  {
   "cell_type": "code",
   "execution_count": 2,
   "metadata": {},
   "outputs": [],
   "source": [
    "import os\n",
    "import cv2\n",
    "import numpy as np\n",
    "import matplotlib.pyplot as plt\n",
    "import tensorflow as tf\n",
    "import mediapipe as mp\n",
    "from sklearn.model_selection import train_test_split\n",
    "from tensorflow.keras.models import Sequential, load_model, Model\n",
    "from tensorflow.keras.layers import Dense, Dropout, Input, BatchNormalization\n",
    "from tensorflow.keras.callbacks import EarlyStopping, ModelCheckpoint, ReduceLROnPlateau\n",
    "from tensorflow.keras.utils import to_categorical\n",
    "import pickle\n",
    "from sklearn.metrics import confusion_matrix, classification_report\n",
    "import seaborn as sns\n",
    "import collections\n",
    "from tensorflow.keras.regularizers import l2"
   ]
  },
  {
   "cell_type": "code",
   "execution_count": 9,
   "metadata": {},
   "outputs": [],
   "source": [
    "mp_hands = mp.solutions.hands\n",
    "mp_drawing = mp.solutions.drawing_utils\n",
    "mp_drawing_styles = mp.solutions.drawing_styles"
   ]
  },
  {
   "cell_type": "code",
   "execution_count": 10,
   "metadata": {},
   "outputs": [],
   "source": [
    "def normalize_landmarks(landmarks):\n",
    "    \"\"\"Normalize hand landmarks to be invariant to scale and translation\"\"\"\n",
    "    # Reshape landmarks array to separate x, y, z coordinates\n",
    "    landmarks_array = np.array(landmarks).reshape(-1, 3)\n",
    "    \n",
    "    # Get wrist position (typically the first landmark)\n",
    "    wrist = landmarks_array[0]\n",
    "    \n",
    "    # Center landmarks around wrist\n",
    "    centered = landmarks_array - wrist\n",
    "    \n",
    "    # Find the scale (maximum distance from any landmark to wrist)\n",
    "    scale = np.max(np.linalg.norm(centered, axis=1))\n",
    "    if scale > 0:\n",
    "        # Normalize by scale\n",
    "        normalized = centered / scale\n",
    "    else:\n",
    "        normalized = centered\n",
    "    \n",
    "    # Flatten back to original shape\n",
    "    return normalized.flatten()"
   ]
  },
  {
   "cell_type": "code",
   "execution_count": 11,
   "metadata": {},
   "outputs": [],
   "source": [
    "def testing(model=None):\n",
    "    \"\"\"Real-time hand gesture recognition with prediction smoothing using MediaPipe\"\"\"\n",
    "    if model is None:\n",
    "        if os.path.exists('../best_hand_gesture_model.h5'):\n",
    "            model = load_model('../best_hand_gesture_model.h5')\n",
    "        else:\n",
    "            print(\"Model not found. Please train the model first.\")\n",
    "            return\n",
    "\n",
    "    print(\"Starting real-time recognition. Press 'q' to exit.\")\n",
    "    cap = cv2.VideoCapture(1)\n",
    "    if not cap.isOpened():\n",
    "        print(\"Error: Could not open webcam.\")\n",
    "        return\n",
    "\n",
    "    # Buffer for smoothing predictions (last 5 predictions)\n",
    "    prediction_buffer = collections.deque(maxlen=5)\n",
    "\n",
    "    with mp_hands.Hands(static_image_mode=False, max_num_hands=1, min_detection_confidence=0.7) as hands:\n",
    "        while cap.isOpened():\n",
    "            ret, frame = cap.read()\n",
    "            if not ret:\n",
    "                print(\"Error: Could not read frame.\")\n",
    "                break\n",
    "            \n",
    "            frame = cv2.flip(frame, 1)\n",
    "            rgb_frame = cv2.cvtColor(frame, cv2.COLOR_BGR2RGB)\n",
    "            results = hands.process(rgb_frame)\n",
    "\n",
    "            if results.multi_hand_landmarks:\n",
    "                for hand_landmarks in results.multi_hand_landmarks:\n",
    "                    mp_drawing.draw_landmarks(\n",
    "                        frame, hand_landmarks, mp_hands.HAND_CONNECTIONS,\n",
    "                        mp_drawing_styles.get_default_hand_landmarks_style(),\n",
    "                        mp_drawing_styles.get_default_hand_connections_style()\n",
    "                    )\n",
    "                    \n",
    "                    landmarks = []\n",
    "                    for landmark in hand_landmarks.landmark:\n",
    "                        landmarks.extend([landmark.x, landmark.y, landmark.z])\n",
    "                    landmarks = normalize_landmarks(landmarks)\n",
    "                    \n",
    "                    prediction = model.predict(np.array([landmarks]), verbose=0)\n",
    "                    pred_digit = np.argmax(prediction[0])\n",
    "                    confidence = np.max(prediction[0])\n",
    "                    prediction_buffer.append(pred_digit)\n",
    "                    \n",
    "                    # Use the mode of the buffer for a smoothed prediction\n",
    "                    smoothed_pred = max(set(prediction_buffer), key=prediction_buffer.count)\n",
    "                    \n",
    "                    cv2.putText(\n",
    "                        frame,\n",
    "                        f\"Digit: {smoothed_pred} ({confidence:.2f})\",\n",
    "                        (10, 30),\n",
    "                        cv2.FONT_HERSHEY_SIMPLEX,\n",
    "                        1.0,\n",
    "                        (0, 255, 0),\n",
    "                        2\n",
    "                    )\n",
    "            \n",
    "            cv2.imshow('Hand Gesture Recognition', frame)\n",
    "            if cv2.waitKey(1) & 0xFF == ord('q'):\n",
    "                break\n",
    "    cap.release()\n",
    "    cv2.destroyAllWindows()"
   ]
  },
  {
   "cell_type": "code",
   "execution_count": 12,
   "metadata": {},
   "outputs": [
    {
     "name": "stdout",
     "output_type": "stream",
     "text": [
      "Starting real-time recognition. Press 'q' to exit.\n"
     ]
    },
    {
     "name": "stderr",
     "output_type": "stream",
     "text": [
      "2025-04-06 04:25:11.649 python[86763:1283878] WARNING: AVCaptureDeviceTypeExternal is deprecated for Continuity Cameras. Please use AVCaptureDeviceTypeContinuityCamera and add NSCameraUseContinuityCameraDeviceType to your Info.plist.\n",
      "WARNING: All log messages before absl::InitializeLog() is called are written to STDERR\n",
      "I0000 00:00:1743893712.966333 1283878 gl_context.cc:357] GL version: 2.1 (2.1 Metal - 89.3), renderer: Apple M2\n",
      "INFO: Created TensorFlow Lite XNNPACK delegate for CPU.\n",
      "2025-04-06 04:25:13.855 python[86763:1283878] +[IMKClient subclass]: chose IMKClient_Modern\n",
      "2025-04-06 04:25:13.855 python[86763:1283878] +[IMKInputSession subclass]: chose IMKInputSession_Modern\n",
      "2025-04-06 04:25:15.410590: W tensorflow/tsl/platform/profile_utils/cpu_utils.cc:128] Failed to get CPU frequency: 0 Hz\n"
     ]
    },
    {
     "ename": "",
     "evalue": "",
     "output_type": "error",
     "traceback": [
      "\u001b[1;31mThe Kernel crashed while executing code in the current cell or a previous cell. \n",
      "\u001b[1;31mPlease review the code in the cell(s) to identify a possible cause of the failure. \n",
      "\u001b[1;31mClick <a href='https://aka.ms/vscodeJupyterKernelCrash'>here</a> for more info. \n",
      "\u001b[1;31mView Jupyter <a href='command:jupyter.viewOutput'>log</a> for further details."
     ]
    }
   ],
   "source": [
    "testing()"
   ]
  },
  {
   "cell_type": "code",
   "execution_count": 6,
   "metadata": {},
   "outputs": [
    {
     "name": "stdout",
     "output_type": "stream",
     "text": [
      "Model Evaluate Test Accuracy: 0.20000000298023224\n",
      "Sklearn Accuracy Score: 0.2\n"
     ]
    }
   ],
   "source": [
    "from sklearn.metrics import confusion_matrix, classification_report, accuracy_score\n",
    "import pickle\n",
    "import numpy as np\n",
    "from sklearn.model_selection import train_test_split\n",
    "from tensorflow.keras.utils import to_categorical\n",
    "from sklearn.metrics import accuracy_score\n",
    "\n",
    "model = load_model('../best_hand_gesture_model.h5')\n",
    "# Load dataset previously collected (adjust the file path as needed)\n",
    "dataset_path = '../hand_landmarks_dataset/hand_landmarks_dataset.pkl'\n",
    "with open(dataset_path, 'rb') as f:\n",
    "    data = pickle.load(f)\n",
    "\n",
    "X = np.array(data['features'])  \n",
    "y = np.array(data['labels'])      \n",
    "\n",
    "X_train, X_test, y_train, y_test = train_test_split(X, y, test_size=0.2, random_state=42)\n",
    "\n",
    "y_test_cat = to_categorical(y_test, num_classes=10)\n",
    "\n",
    "loss, accuracy = model.evaluate(X_test, y_test_cat, verbose=0)\n",
    "print(\"Model Evaluate Test Accuracy:\", accuracy)\n",
    "\n",
    "predictions = model.predict(X_test, verbose=0)\n",
    "predicted_classes = np.argmax(predictions, axis=1)\n",
    "acc = accuracy_score(y_test, predicted_classes)\n",
    "print(\"Sklearn Accuracy Score:\", acc)"
   ]
  },
  {
   "cell_type": "code",
   "execution_count": null,
   "metadata": {},
   "outputs": [],
   "source": []
  },
  {
   "cell_type": "code",
   "execution_count": null,
   "metadata": {},
   "outputs": [],
   "source": []
  }
 ],
 "metadata": {
  "kernelspec": {
   "display_name": "tf",
   "language": "python",
   "name": "python3"
  },
  "language_info": {
   "codemirror_mode": {
    "name": "ipython",
    "version": 3
   },
   "file_extension": ".py",
   "mimetype": "text/x-python",
   "name": "python",
   "nbconvert_exporter": "python",
   "pygments_lexer": "ipython3",
   "version": "3.8.18"
  }
 },
 "nbformat": 4,
 "nbformat_minor": 2
}
